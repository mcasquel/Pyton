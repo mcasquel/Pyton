{
 "cells": [
  {
   "cell_type": "markdown",
   "metadata": {},
   "source": [
    "## 1 Faça um Programa que peça o raio de um círculo, calcule e mostre sua área."
   ]
  },
  {
   "cell_type": "code",
   "execution_count": 1,
   "metadata": {},
   "outputs": [
    {
     "name": "stdout",
     "output_type": "stream",
     "text": [
      "Digite a área do Circulo em metros: 1\n",
      "a area do circulo e: 3.14 m²\n"
     ]
    }
   ],
   "source": [
    "pi = 3.14\n",
    "r = float(input(\"Digite a área do Circulo em metros: \"))\n",
    "a =pi*(r**2)\n",
    "\n",
    "print (\"a area do circulo e:\", a, \"m²\")"
   ]
  },
  {
   "cell_type": "markdown",
   "metadata": {},
   "source": [
    "## 2 Faça um Programa que calcule a área de um quadrado, em seguida mostre o dobro desta área para o usuário."
   ]
  },
  {
   "cell_type": "code",
   "execution_count": 2,
   "metadata": {},
   "outputs": [
    {
     "name": "stdout",
     "output_type": "stream",
     "text": [
      "Digite a dimensão do lado do quadrado em metros: 2\n",
      "a area do quadrado é: 4.0 m²\n"
     ]
    }
   ],
   "source": [
    "a = float(input(\"Digite a dimensão do lado do quadrado em metros: \"))\n",
    "total = a**2\n",
    "print (\"a area do quadrado é:\", total, \"m²\")"
   ]
  },
  {
   "cell_type": "markdown",
   "metadata": {},
   "source": [
    "## 3 Faça um Programa que pergunte quanto você ganha por hora e o número de horas trabalhadas no mês. Calcule e mostre o total do seu salário no referido mês."
   ]
  },
  {
   "cell_type": "code",
   "execution_count": 3,
   "metadata": {},
   "outputs": [
    {
     "name": "stdout",
     "output_type": "stream",
     "text": [
      "Quanto você ganha por hora?40\n",
      "Qua o número de horas trabalhadas no mês?80\n",
      "O total do seu salário no referido mês é de: 3200.0 reais\n"
     ]
    }
   ],
   "source": [
    "valor = float(input(\"Quanto você ganha por hora?\"))\n",
    "hora = float(input(\"Qua o número de horas trabalhadas no mês?\"))\n",
    "total = valor*hora\n",
    "print (\"O total do seu salário no referido mês é de:\", total, \"reais\")"
   ]
  },
  {
   "cell_type": "markdown",
   "metadata": {},
   "source": [
    "## 4 Faça um Programa que peça a temperatura em graus Farenheit, transforme e mostre a temperatura em graus Celsius. C = (5 * (F-32) / 9)."
   ]
  },
  {
   "cell_type": "code",
   "execution_count": 4,
   "metadata": {},
   "outputs": [
    {
     "name": "stdout",
     "output_type": "stream",
     "text": [
      "Qual é temperatura em graus Farenheit?70\n",
      "A temperatura em graus Celsius é de:  21 ºC\n"
     ]
    }
   ],
   "source": [
    "f = float(input(\"Qual é temperatura em graus Farenheit?\"))\n",
    "c = int(5 * (f-32) / 9)\n",
    "print (\"A temperatura em graus Celsius é de: \", c,\"ºC\")"
   ]
  },
  {
   "cell_type": "markdown",
   "metadata": {},
   "source": [
    "## 5 Faça um Programa que peça a temperatura em graus Celsius, transforme e mostre em graus Farenheit."
   ]
  },
  {
   "cell_type": "code",
   "execution_count": 5,
   "metadata": {},
   "outputs": [
    {
     "name": "stdout",
     "output_type": "stream",
     "text": [
      "Qual é temperatura em graus Celsius?30\n",
      "A temperatura em graus Farenheit é de:  86 ºF\n"
     ]
    }
   ],
   "source": [
    "c = float(input(\"Qual é temperatura em graus Celsius?\"))\n",
    "f = int(c*(9/5)+32)\n",
    "print (\"A temperatura em graus Farenheit é de: \", f,\"ºF\")"
   ]
  },
  {
   "cell_type": "markdown",
   "metadata": {},
   "source": [
    "## 6 Faça um Programa que peça 2 números inteiros e um número real. Calcule e mostre:\n",
    "### - o produto do dobro do primeiro com metade do segundo .\n",
    "### - a soma do triplo do primeiro com o terceiro.\n",
    "### - o terceiro elevado ao cubo."
   ]
  },
  {
   "cell_type": "code",
   "execution_count": 6,
   "metadata": {},
   "outputs": [
    {
     "name": "stdout",
     "output_type": "stream",
     "text": [
      "Digite o primeiro numero:3\n",
      "Digite o segundo numero:3\n",
      "Digite o numero Real:5.5\n",
      "o produto do dobro do primeiro com metade do segundo: 9.0\n",
      "a soma do triplo do primeiro com o terceiro =  14.5\n",
      "o terceiro elevado ao cubo 166.375\n"
     ]
    }
   ],
   "source": [
    "n1 = float(input(\"Digite o primeiro numero:\"))\n",
    "n2 = float(input(\"Digite o segundo numero:\"))\n",
    "nReal = float(input(\"Digite o numero Real:\"))\n",
    "r1 = n1 * 2 * (n2 / 2)          \n",
    "print (\"o produto do dobro do primeiro com metade do segundo:\", r1)   \n",
    "r2 = n1 *  3 + nReal\n",
    "print (\"a soma do triplo do primeiro com o terceiro = \", r2)\n",
    "r3 = nReal ** 3\n",
    "print (\"o terceiro elevado ao cubo\", r3)"
   ]
  },
  {
   "cell_type": "markdown",
   "metadata": {},
   "source": [
    "## 7 João Papo-de-Pescador, homem de bem, comprou um microcomputador para controlar o rendimento diário de seu trabalho. Toda vez que ele traz um peso de peixes maior que o estabelecido pelo regulamento de pesca do estado de São Paulo (50 quilos) deve pagar uma multa de 4,00 reais por quilo excedente. João precisa que você faça um programa que leia a variável peso (peso de peixes) e verifique se há excesso. Se houver, gravar na variável excesso e na variável multa o valor da multa que João deverá pagar. Caso contrário mostrar tais variáveis com o conteúdo ZERO.\n"
   ]
  },
  {
   "cell_type": "code",
   "execution_count": 7,
   "metadata": {},
   "outputs": [
    {
     "name": "stdout",
     "output_type": "stream",
     "text": [
      "Entre com o peso: 70\n",
      "O excesso de peso foi de  20 kg, portanto, a multa é de R$ 80\n"
     ]
    }
   ],
   "source": [
    "peso = int(input(\"Entre com o peso: \"))\n",
    "\n",
    "if peso > 50:\n",
    "    excesso = peso - 50\n",
    "    multa   = excesso * 4\n",
    "else:\n",
    "    excesso = \"ZERO\"\n",
    "    multa = \"ZERO\"\n",
    "\n",
    "print ('O excesso de peso foi de ', excesso ,'kg, portanto, a multa é de R$', multa)"
   ]
  },
  {
   "cell_type": "markdown",
   "metadata": {},
   "source": [
    "## 8 Faça um Programa que pergunte quanto você ganha por hora e o número de horas trabalhadas no mês. Calcule e mostre o total do seu salário no referido mês, sabendo-se que são descontados 11% para o Imposto de Renda, 8% para o INSS e 5% para o sindicato, faça um programa que nos dê:\n",
    "#### - salário bruto.\n",
    "#### - quanto pagou ao INSS.\n",
    "#### - quanto pagou ao sindicato.\n",
    "#### - o salário líquido.\n",
    "#### - calcule os descontos e o salário líquido, conforme a tabela abaixo:\n",
    "##### + Salário Bruto : Reais\n",
    "##### - IR (11%) : Reais\n",
    "##### - INSS (8%) : Reais\n",
    "##### - Sindicato ( 5%) : Reais\n",
    "##### = Salário Liquido : Reais\n",
    "###### Obs.: Salário Bruto - Descontos = Salário Líquido."
   ]
  },
  {
   "cell_type": "code",
   "execution_count": 8,
   "metadata": {},
   "outputs": [
    {
     "name": "stdout",
     "output_type": "stream",
     "text": [
      "Quanto você ganha por hora?30\n",
      "Qua o número de horas trabalhadas no mês?40\n",
      "O total do seu salário bruto no referido mês é de: 1200.0 reais\n",
      "O total do desconto do INSS no referido mês é de: 96.0 reais\n",
      "O total do desconto do Sindicato no referido mês é de: 60.0 reais\n",
      "O total do seu salário Líquido no referido mês é de: 912.0 reais\n"
     ]
    }
   ],
   "source": [
    "valor = float(input(\"Quanto você ganha por hora?\"))\n",
    "hora = float(input(\"Qua o número de horas trabalhadas no mês?\"))\n",
    "total = valor*hora\n",
    "ir =  ((total*11)/100)\n",
    "inss =  ((total*8)/100) \n",
    "sindicato =((total*5)/100)\n",
    "liquido =((( total - ir)- inss)- sindicato)\n",
    "print (\"O total do seu salário bruto no referido mês é de:\", total, \"reais\")\n",
    "print (\"O total do desconto do INSS no referido mês é de:\", inss, \"reais\")\n",
    "print (\"O total do desconto do Sindicato no referido mês é de:\", sindicato, \"reais\")\n",
    "print (\"O total do seu salário Líquido no referido mês é de:\", liquido, \"reais\")\n"
   ]
  },
  {
   "cell_type": "markdown",
   "metadata": {},
   "source": [
    "## 9 Faça um programa que leia 2 strings e informe o conteúdo delas seguido do seu comprimento. Informe também se as duas strings possuem o mesmo comprimento e são iguais ou diferentes no conteúdo. Exemplo:\n",
    "#### String 1: Brasil Hexa 2018\n",
    "#### String 2: Brasil! Hexa 2018!\n",
    "#### Tamanho de \"Brasil Hexa 2018\": 16 caracteres\n",
    "#### Tamanho de \"Brasil! Hexa 2018!\": 18 caracteres\n",
    "#### As duas strings são de tamanhos diferentes.\n",
    "#### As duas strings possuem conteúdo diferente."
   ]
  },
  {
   "cell_type": "code",
   "execution_count": 9,
   "metadata": {},
   "outputs": [
    {
     "name": "stdout",
     "output_type": "stream",
     "text": [
      "Digite a primeira frase:brasa\n",
      "Digite a segunda frase:brasaooo\n",
      "Tamanho de brasa :  5 caracteres\n",
      "Tamanho de brasaooo :  8 caracteres\n",
      "As duas strings são de tamanhos diferentes\n",
      "As duas strings possuem conteúdo diferente\n"
     ]
    }
   ],
   "source": [
    "s1 = input(\"Digite a primeira frase:\")\n",
    "s2 = input(\"Digite a segunda frase:\")\n",
    "\n",
    "t1 = len(s1)\n",
    "t2 = len(s2)\n",
    "\n",
    "print (\"Tamanho de\",s1,\": \",t1,\"caracteres\")\n",
    "print (\"Tamanho de\",s2,\": \",t2,\"caracteres\")\n",
    "\n",
    "if t1 == t2:\n",
    "    print(\"As duas strings são do mesmo tamanho\")\n",
    "else: \n",
    "    print(\"As duas strings são de tamanhos diferentes\")\n",
    "\n",
    "if s1 == s2:\n",
    "    print(\"As duas strings possuem o mesmo conteúdo\")\n",
    "else: \n",
    "    print(\"As duas strings possuem conteúdo diferente\")"
   ]
  },
  {
   "cell_type": "markdown",
   "metadata": {},
   "source": [
    "## 10 Faça um programa que permita ao usuário digitar o seu nome e em seguida mostre o nome do usuário de trás para frente utilizando somente letras maiúsculas. Dica: lembre−se que ao informar o nome o usuário pode digitar letras maiúsculas ou minúsculas. Observação: não use loops."
   ]
  },
  {
   "cell_type": "code",
   "execution_count": 11,
   "metadata": {},
   "outputs": [
    {
     "name": "stdout",
     "output_type": "stream",
     "text": [
      "Escreva seu nome: matheus\n",
      "SUEHTAM\n"
     ]
    }
   ],
   "source": [
    "nome = input(\"Escreva seu nome: \")\n",
    "\n",
    "nome = nome.upper()\n",
    "resultado = ''\n",
    "\n",
    "print(nome[::-1])\n",
    "\n",
    "# seq[start:end:step]"
   ]
  },
  {
   "cell_type": "markdown",
   "metadata": {},
   "source": [
    "## 11 Faça um programa que solicite a data de nascimento (dd/mm/aaaa) do usuário e imprima a data com o nome do mês por extenso.\n",
    "#### Data de Nascimento: 29/10/1973\n",
    "#### Você nasceu em 29 de Outubro de 1973.\n",
    "##### Obs.: Não use desvio condicional nem loops."
   ]
  },
  {
   "cell_type": "code",
   "execution_count": 13,
   "metadata": {},
   "outputs": [
    {
     "name": "stdout",
     "output_type": "stream",
     "text": [
      "Data (dd/mm/aaaa): 03/12/1996\n",
      "Você nasce em:\n",
      "03 de dezembro de 1996\n"
     ]
    }
   ],
   "source": [
    "dia, mês, ano = input('Data (dd/mm/aaaa): ').split('/')\n",
    "meses = ['janeiro',\n",
    "         'fevereiro',\n",
    "         'março',\n",
    "         'abril',\n",
    "         'maio',\n",
    "         'junho',\n",
    "         'julho',\n",
    "         'agosto',\n",
    "         'setembro',\n",
    "         'outubro',\n",
    "         'novembro',\n",
    "         'dezembro']\n",
    "\n",
    "print ('Você nasce em:')\n",
    "print ('%s de %s de %s' %(dia, meses[int(mês) - 1], ano))"
   ]
  },
  {
   "cell_type": "markdown",
   "metadata": {},
   "source": [
    "## 12 Leet é uma forma de se escrever o alfabeto latino usando outros símbolos em lugar das letras, como números por exemplo. A própria palavra leet admite muitas variações, como l33t ou 1337. O uso do leet reflete uma subcultura relacionada ao mundo dos jogos de computador e internet, sendo muito usada para confundir os iniciantes e afirmar-se como parte de um grupo. Pesquise sobre as principais formas de traduzir as letras. Depois, faça um programa que peça uma texto e transforme-o para a grafia leet speak.\n",
    "\n",
    "#### Desafio: não use loops nem desvios condicionais.\n"
   ]
  },
  {
   "cell_type": "code",
   "execution_count": 14,
   "metadata": {},
   "outputs": [
    {
     "name": "stdout",
     "output_type": "stream",
     "text": [
      "Insira o texto: renan\n",
      "Tradução:  |23/\\/4/\\/\n"
     ]
    }
   ],
   "source": [
    "text = input(\"Insira o texto: \").upper()\n",
    "leettext = text\n",
    "leet = {'A': '4','B':'8','C':'(','D':')','E':'3','F':'|=','G':'6','H':'#','I':'1','J':'_|','K':'|<','L':'|','M':'|\\/|','N':'/\\/','O':'0','P':'|D','Q':'(,)','R':'|2','S':'5,$','T':'7','U':'(_)','V':'\\/ ','W':'\\/\\/','X':'><','Y':'¥','Z':'2'}\n",
    "\n",
    "for x,y in leet.items():\n",
    "    leettext = leetatext.replace(x , y)\n",
    "\n",
    "\n",
    "print (\"Tradução: \", leettext) \n"
   ]
  },
  {
   "cell_type": "code",
   "execution_count": 19,
   "metadata": {},
   "outputs": [
    {
     "name": "stdout",
     "output_type": "stream",
     "text": [
      "Insira o texto: mat\n",
      "Tradução:  |\\/| 4 7\n"
     ]
    }
   ],
   "source": [
    "# Sem laço de repeticao\n",
    "# https://www.geeksforgeeks.org/map-function-lambda-expression-python-replace-characters/https://www.geeksforgeeks.org/map-function-lambda-expression-python-replace-characters/\n",
    "\n",
    "text = input(\"Insira o texto: \").upper()\n",
    "leet = {'A': '4','B':'8','C':'(','D':')','E':'3','F':'|=','G':'6','H':'#','I':'1','J':'_|','K':'|<','L':'|','M':'|\\/|','N':'/\\/','O':'0','P':'|D','Q':'(,)','R':'|2','S':'5,$','T':'7','U':'(_)','V':'\\/ ','W':'\\/\\/','X':'><','Y':'¥','Z':'2'}\n",
    "\n",
    "teste = map(lambda key: key if key in leet[key] else leet[key], list(text))\n",
    "print(\"Tradução: \",' '.join(teste)) "
   ]
  },
  {
   "cell_type": "markdown",
   "metadata": {},
   "source": [
    "## 13 Crie um programa que recebe uma lista de números e\n",
    "###### - retorne o maior elemento\n",
    "###### - retorne a soma dos elementos\n",
    "###### - retorne o número de ocorrências do primeiro elemento da lista\n",
    "###### - retorne a média dos elementos\n",
    "###### - retorne o valor mais próximo da média dos elementos\n",
    "###### - retorne a soma dos elementos com valor negativo\n",
    "###### - retorne a quantidade de vizinhos iguais\n"
   ]
  },
  {
   "cell_type": "code",
   "execution_count": 1,
   "metadata": {},
   "outputs": [
    {
     "name": "stdout",
     "output_type": "stream",
     "text": [
      "Informe o tamanho da lista: 4\n",
      "Entre com um número: 1\n",
      "Entre com um número: 1\n",
      "Entre com um número: 2\n",
      "Entre com um número: 2\n",
      "O maior elemento é o 2\n",
      "A soma dos elementos é 6\n",
      "O número de ocorrências do primeiro elemento é 2\n",
      "A média dos elementos é 1.5\n",
      "O valor mais próximo da média dos elementos  2\n",
      "O valor da soma dos numeros negativos e de 0\n",
      "O contagen de vizinhos iguais é de 2\n"
     ]
    }
   ],
   "source": [
    "n = int(input(\"Informe o tamanho da lista: \"))\n",
    "l=[]\n",
    "for i in range(0,n):\n",
    "  x = int(input(\"Entre com um número: \"))\n",
    "  l.append(x)\n",
    "\n",
    "#Item a:\n",
    "def maior(a):\n",
    "    if len(a) <= 1:\n",
    "        m = a[0]\n",
    "    else:\n",
    "        m = a[0]\n",
    "        for i in range(1,len(a)):\n",
    "            if a[i]>m:\n",
    "                m = a[i]\n",
    "    return m\n",
    "print(\"O maior elemento é o \" + str(maior(l)))\n",
    "#Item b:\n",
    "def soma_elementos(s):\n",
    "  s = 0\n",
    "  for j in l:\n",
    "    s+=j\n",
    "  return s\n",
    "print(\"A soma dos elementos é \" + str(soma_elementos(l)))\n",
    "#Item c:\n",
    "def numero_ocorrencias(no):\n",
    "  k = l.count(no)\n",
    "  return k\n",
    "print(\"O número de ocorrências do primeiro elemento é \" + str(numero_ocorrencias(l[0])))\n",
    "\n",
    "#Item d:\n",
    "def media_elementos():\n",
    "    result = soma_elementos(l) / n\n",
    "    return result\n",
    "print(\"A média dos elementos é \" + str(media_elementos()))\n",
    "\n",
    "#Item e:\n",
    "def numero_ocorrencias_media():\n",
    "    resultado = l.count(int(media_elementos()))\n",
    "    return resultado\n",
    "print(\"O valor mais próximo da média dos elementos  \" + str(numero_ocorrencias_media()))\n",
    "\n",
    "\n",
    "#Item f:\n",
    "def soma_negativo(soma):\n",
    "    soma = 0\n",
    "    for num in l:\n",
    "        if num < 0 :\n",
    "            soma += num\n",
    "    return soma\n",
    "print (\"O valor da soma dos numeros negativos e de \" + str(soma_negativo(l)))\n",
    "\n",
    "# Item g:\n",
    "def vizinhos(soma):\n",
    "    soma = 1\n",
    "    cont = 0 \n",
    "    for num in l:\n",
    "        if soma < len(l):\n",
    "            if l[soma - 1] == l[soma]:\n",
    "                cont = cont + 1\n",
    "            soma = soma + 1\n",
    "    return cont \n",
    "print (\"O contagen de vizinhos iguais é de \" + str(vizinhos(l)))"
   ]
  },
  {
   "cell_type": "markdown",
   "metadata": {},
   "source": [
    "## 14 Faça um programa que receba duas listas e retorne True se são iguais ou False caso contrario. Duas listas são iguais se possuem os mesmos valores e na mesma ordem."
   ]
  },
  {
   "cell_type": "code",
   "execution_count": 2,
   "metadata": {},
   "outputs": [
    {
     "name": "stdout",
     "output_type": "stream",
     "text": [
      "digite um numero para a lista 1: 1\n",
      "digite o proximo numero: 2\n",
      "digite o proximo numero: 3\n",
      "digite o proximo numero: 0\n",
      "digite um numero para a lista 2: 1\n",
      "digite o proximo numero: 2\n",
      "digite o proximo numero: 3\n",
      "digite o proximo numero: 0\n",
      "True\n"
     ]
    }
   ],
   "source": [
    "def listaDeDigitos(n):\n",
    "    lista = []\n",
    "    lista.append(n)\n",
    "    while n != 0:\n",
    "        n = int(input(\"digite o proximo numero: \"))\n",
    "        lista.append(n)\n",
    "    return lista\n",
    "\n",
    "num = int(input(\"digite um numero para a lista 1: \"))\n",
    "l1= listaDeDigitos(num)\n",
    "num2 = int(input(\"digite um numero para a lista 2: \"))\n",
    "l2= listaDeDigitos(num2)\n",
    "\n",
    "def listas(l1, l2):\n",
    "    return l1==l2\n",
    "print (str(listas(l1, l2)))"
   ]
  },
  {
   "cell_type": "markdown",
   "metadata": {},
   "source": [
    "## 15 Faça um programa que receba duas listas e retorne True se têm os mesmos elementos ou False caso contrário Duas listas possuem os mesmos elementos quando são compostas pelos mesmos valores, mas não obrigatoriamente na mesma ordem."
   ]
  },
  {
   "cell_type": "code",
   "execution_count": 1,
   "metadata": {},
   "outputs": [
    {
     "name": "stdout",
     "output_type": "stream",
     "text": [
      "digite um numero para a lista 1: 1\n",
      "digite o proximo numero: 2\n",
      "digite o proximo numero: 3\n",
      "digite o proximo numero: 0\n",
      "digite um numero para a lista 2: 3\n",
      "digite o proximo numero: 1\n",
      "digite o proximo numero: 2\n",
      "digite o proximo numero: 0\n",
      "[1, 2, 3, 0]\n",
      "[3, 1, 2, 0]\n",
      "[]\n",
      "True\n"
     ]
    }
   ],
   "source": [
    "def listaDeDigitos(n):\n",
    "    lista = []\n",
    "    lista.append(n)\n",
    "    while n != 0:\n",
    "        n = int(input(\"digite o proximo numero: \"))\n",
    "        lista.append(n)\n",
    "    return lista\n",
    "\n",
    "num = int(input(\"digite um numero para a lista 1: \"))\n",
    "l1= listaDeDigitos(num)\n",
    "num2 = int(input(\"digite um numero para a lista 2: \"))\n",
    "l2= listaDeDigitos(num2)\n",
    "\n",
    "lista_final = list(set(l1) - set(l2))\n",
    "print (str(l1))\n",
    "print (str(l2))\n",
    "print (str(lista_final))\n",
    "\n",
    "if len(lista_final) == 0:\n",
    "    print(True)\n",
    "else:\n",
    "    print(False)"
   ]
  },
  {
   "cell_type": "markdown",
   "metadata": {},
   "source": [
    "## 16 Faça um programa que percorre uma lista com o seguinte formato: [['Brasil', 'Italia', [10, 9]], ['Brasil', 'Espanha', [5, 7]], ['Italia', 'Espanha', [7,8]]]. Essa lista indica o número de faltas que cada time fez em cada jogo. Na lista acima, no jogo entre Brasil e Itália, o Brasil fez 10 faltas e a Itália fez 9. \n",
    "### O programa deve imprimir na tela:\n",
    "###### - o total de faltas do campeonato\n",
    "###### - o time que fez mais faltas\n",
    "###### - o time que fez menos faltas"
   ]
  },
  {
   "cell_type": "code",
   "execution_count": 3,
   "metadata": {},
   "outputs": [
    {
     "name": "stdout",
     "output_type": "stream",
     "text": [
      " Total de falta =  {'Brasil': 15, 'Italia': 16, 'Espanha': 15}  \n",
      " Maior quantidade de faltas =  ['Italia']  \n",
      " Menor quantidade de faltas =  ['Brasil', 'Espanha']\n"
     ]
    }
   ],
   "source": [
    "lista_jogos = [['Brasil','Italia', [10, 9]], ['Brasil', 'Espanha', [5, 7]], ['Italia', 'Espanha', [7,8]]]\n",
    "total_faltas = 0\n",
    "dict_times = {}\n",
    "\n",
    "menos_faltas = \"\"\n",
    "mais_faltas = \"\"\n",
    "\n",
    "for jogos in lista_jogos:\n",
    "    total_faltas = total_faltas + int(jogos[2][0]) + int(jogos[2][1])\n",
    "    for times, faltas in zip(jogos, jogos[2]):\n",
    "        if(dict_times.get(times)):\n",
    "            dict_times[times] = dict_times.get(times) + faltas\n",
    "        else:\n",
    "            dict_times[times] = faltas\n",
    "mais_faltas = []\n",
    "menos_faltas = []\n",
    "\n",
    "for k, v in dict_times.items():\n",
    "    if v == max(list(dict_times.values())):\n",
    "        mais_faltas.append(k)\n",
    "    if v == min(list(dict_times.values())):\n",
    "        menos_faltas.append(k)\n",
    "\n",
    "\n",
    "print(\" Total de falta = \", dict_times, \" \\n Maior quantidade de faltas = \",mais_faltas,\" \\n Menor quantidade de faltas = \",menos_faltas)\n"
   ]
  },
  {
   "cell_type": "markdown",
   "metadata": {},
   "source": [
    "## 17 Escreva um programa que conta a quantidade de vogais em uma string e armazena tal quantidade em um dicionário, onde a chave é a vogal considerada."
   ]
  },
  {
   "cell_type": "code",
   "execution_count": 10,
   "metadata": {},
   "outputs": [
    {
     "name": "stdout",
     "output_type": "stream",
     "text": [
      "Digite uma palavra: aaa\n",
      "{'a': 3}\n"
     ]
    }
   ],
   "source": [
    "texto = input(\"Digite uma palavra: \")\n",
    "vogais = [\"a\", \"e\", \"i\", \"o\", \"u\"]\n",
    "\n",
    "vog = {}\n",
    "for v in vogais:\n",
    "    if v in texto:\n",
    "        vog[v] = list(texto).count(v)\n",
    "print(vog)"
   ]
  },
  {
   "cell_type": "markdown",
   "metadata": {},
   "source": [
    "## 18 Escreva um programa que lê duas notas de vários alunos e armazena tais notas em um dicionário, onde a chave é o nome do aluno. A entrada de dados deve terminar quando for lida uma string vazia como nome. Escreva uma função que retorna a média do aluno, dado seu nome."
   ]
  },
  {
   "cell_type": "code",
   "execution_count": 11,
   "metadata": {},
   "outputs": [
    {
     "name": "stdout",
     "output_type": "stream",
     "text": [
      "Digite um nome: matheus\n",
      "Digite a nota: 10\n",
      "Digite um nome: matheus\n",
      "Digite a nota: 5\n",
      "Digite um nome: \n",
      "Digite o nome de quem deseja calcular a media: matheus\n",
      "{'MATHEUS': [10, 5]}\n",
      "Media do'a' MATHEUS e 7.5\n"
     ]
    }
   ],
   "source": [
    "notas = dict()\n",
    "texto = \" \"\n",
    "\n",
    "def calcular_media(alunos):\n",
    "    try:\n",
    "        lista_notas = notas[alunos]\n",
    "        media = sum(lista_notas) / len(lista_notas)\n",
    "        return media\n",
    "    except:\n",
    "        return False\n",
    "\n",
    "while texto != \"\":\n",
    "    texto = input(\"Digite um nome: \").upper()\n",
    "    if (texto):\n",
    "        nota = int(input(\"Digite a nota: \"))\n",
    "        try:\n",
    "            notas[texto].append(nota)\n",
    "        except KeyError:\n",
    "            notas[texto] = [nota]\n",
    "    \n",
    "texto = input(\"Digite o nome de quem deseja calcular a media: \").upper()\n",
    "media = calcular_media(texto)\n",
    "\n",
    "print(notas)\n",
    "print(\"Media do'a' {} e {}\".format(texto, media))"
   ]
  },
  {
   "cell_type": "markdown",
   "metadata": {},
   "source": [
    "## 19 Uma pista de Kart permite 10 voltas para cada um de 6 corredores. Escreva um programa que leia todos os tempos em segundos e os guarde em um dicionário, onde a chave é o nome do corredor. Ao final diga de quem foi a melhor volta da prova e em que volta; e ainda a classificação final em ordem (1o o campeão). O campeão é o que tem a menor média de tempos."
   ]
  },
  {
   "cell_type": "code",
   "execution_count": 12,
   "metadata": {},
   "outputs": [
    {
     "name": "stdout",
     "output_type": "stream",
     "text": [
      "1° lugar: Batista - 59.9 segs.\n",
      "2° lugar: Jailson - 60.6 segs.\n",
      "3° lugar: Joao - 60.8 segs.\n",
      "4° lugar: Marcos - 61.2 segs.\n",
      "5° lugar: Roger - 61.6 segs.\n",
      "6° lugar: Rodolfo - 63.8 segs.\n"
     ]
    }
   ],
   "source": [
    "import operator\n",
    "dic = {\"Jailson\": [57, 58, 60, 56, 64, 70, 59, 58, 69, 55],\"Joao\": [56, 60, 72, 50, 67, 58, 61, 63, 62, 59],\"Batista\": [79, 52, 58, 48, 58, 59, 61, 65, 59, 60],\"Rodolfo\": [56, 50, 55, 70, 85, 73, 68, 65, 56, 60],\"Marcos\": [69, 55, 67, 50, 52, 53, 70, 75, 65, 56],\"Roger\": [56, 63, 63, 65, 70, 59, 55, 60, 63, 62]}\n",
    "    \n",
    "volta = 0\n",
    "medias = dic\n",
    "nome = \"\"\n",
    "melhorVolta = dic[\"Jailson\"][0]\n",
    "for chave in dic:\n",
    "    soma = 0\n",
    "    for num in dic[chave]:\n",
    "        if num < melhorVolta:\n",
    "            melhorVolta = num\n",
    "            nome = chave\n",
    "        soma += num\n",
    "    medias[chave] = soma / 10\n",
    "\n",
    "#itemgeter 1 é a pos do valor do medias.items()\n",
    "sort = sorted(medias.items(), key=operator.itemgetter(1))\n",
    "for i in range(0, 6):\n",
    "    print(\"%s° lugar: %s - %s segs.\" % (i + 1, sort[i][0], sort[i][1]))"
   ]
  },
  {
   "cell_type": "markdown",
   "metadata": {},
   "source": [
    "### 20 Escreva um programa para armazenar uma agenda de telefones em um dicionário. Cada pessoa pode ter um ou mais telefones e a chave do dicionário é o nome da pessoa. Seu programa deve ter as seguintes funções:\n",
    "##### - incluirNovoNome – essa função acrescenta um novo nome na agenda, com um ou mais telefones. Ela deve receber como argumentos o nome e os telefones.\n",
    "##### - incluirTelefone – essa função acrescenta um telefone em um nome existente na genda. Caso o nome não exista na agenda, você̂deve perguntar se a pessoa deseja inclui-lo. Caso a resposta seja afirmativa, use a função anterior para incluir o novo nome.\n",
    "#####  - excluirTelefone – essa função exclui um telefone de uma pessoa que já está na agenda. Se a pessoa tiver apenas um telefone, ela deve ser excluída da agenda.\n",
    "#####  - excluirNome – essa função exclui uma pessoa da agenda.\n",
    "##### - consultarTelefone – essa função retorna os telefones de uma pessoa na agenda."
   ]
  },
  {
   "cell_type": "code",
   "execution_count": null,
   "metadata": {},
   "outputs": [],
   "source": [
    "agenda = {}\n",
    "\n",
    "def incluirNovoNome(nome, telefones):\n",
    "    global agenda\n",
    "    agenda[nome] = telefones\n",
    "    \n",
    "def incluirTelefone(nome, telefone):\n",
    "    global agenda\n",
    "    if nome in agenda.keys():\n",
    "        agenda[nome].append(telefone)\n",
    "    else:\n",
    "        if input(\"Essa pessoa não existe, incluir ela na agenda (s/n)? \") == \"s\":\n",
    "            telefones = [telefone]\n",
    "            incluirNovoNome(nome, telefones)\n",
    "            \n",
    "def excluirTelefone(nome, telefone):\n",
    "    global agenda\n",
    "    if nome in agenda.keys():\n",
    "        if len(agenda[nome]) == 1:\n",
    "            del agenda[nome]\n",
    "        else:\n",
    "            for num in range(0, len(agenda[nome]) - 1):\n",
    "                if telefone == agenda[nome][num]:\n",
    "                    agenda[nome].pop(num)\n",
    "        \n",
    "def consultarTelefone(nome):\n",
    "    global agenda\n",
    "    if nome in agenda.keys():\n",
    "        print(agenda[nome]) \n",
    "        \n",
    "        \n",
    "opcao = -1\n",
    "while opcao != 0:\n",
    "    opcao = int(input(\"Escolha uma opção:  \\n1- Incluir Novo Nome \\n2- Incluir Telefone \\n3 - Excluir Telefone \\n4 - Consultar Agenda \\n0 - Encerrar Programa\"))\n",
    "    \n",
    "    # INSERIR NOVO NOME\n",
    "    if opcao == 1:\n",
    "        nome = input(\"Insira o nome da pessoa: \")\n",
    "        telefones = []\n",
    "        telefones.append(int(input(\"Insira um telefone da pessoa: \")))\n",
    "        telefone = -1\n",
    "        while telefone != 0:\n",
    "            telefone = int(input(\"Inserir outro telefone (ou digite 0 para parar): \"))\n",
    "            if telefone != 0:\n",
    "                telefones.append(telefone)\n",
    "        incluirNovoNome(nome, telefones)\n",
    "    # INCLUIR TELEFONE\n",
    "    elif opcao == 2:\n",
    "        nome = input(\"Insira o nome da pessoa: \")\n",
    "        telefone = int(input(\"Insira um novo telefone da pessoa: \"))\n",
    "        incluirTelefone(nome, telefone)\n",
    "    # EXCLUIR TELEFONE\n",
    "    elif opcao == 3:\n",
    "        nome = input(\"Insira o nome da pessoa: \")\n",
    "        telefone = int(input(\"Insira o telefone da pessoa a qual deseja excluir: \"))\n",
    "        excluirTelefone(nome, telefone)\n",
    "    elif opcao == 4:\n",
    "        if input(\"ver sodos os contatos ou não?(todos/n)?\") == \"todos\":\n",
    "            print (agenda)\n",
    "        else:\n",
    "            consultarTelefone(input(\"Insira o nome da pessoa: \"))"
   ]
  },
  {
   "cell_type": "markdown",
   "metadata": {},
   "source": [
    "## 21 Faça um programa que leia um arquivo texto contendo uma lista de endereços IP e gere um outro arquivo, contendo um relatório dos endereços IP válidos e inválidos."
   ]
  },
  {
   "cell_type": "code",
   "execution_count": null,
   "metadata": {},
   "outputs": [],
   "source": [
    "import socket\n",
    "\n",
    "ipsValidos = []\n",
    "ipsInvalidos = []\n",
    "\n",
    "ips = open(\"C:/Users/mathe/Desktop/ips.txt\")\n",
    "for ip in ips:\n",
    "    try:\n",
    "        socket.inet_aton(ip)\n",
    "        # Validos\n",
    "        ipsValidos.append(ip)\n",
    "    except socket.error:\n",
    "        # Invalidos\n",
    "        ipsInvalidos.append(ip)\n",
    "        \n",
    "ips.close()\n",
    "\n",
    "saida = open(\"C:/Users/mathe/Desktop/ipsvalidados.txt\", \"w+\")\n",
    "\n",
    "saida.write(\"[Endereços válidos:]\\n\")\n",
    "for ip in ipsValidos:\n",
    "    saida.write(ip)\n",
    "    \n",
    "saida.write(\"[Endereços inválidos:]\\n\")\n",
    "for ip in ipsInvalidos:\n",
    "    saida.write(ip)\n",
    "    \n",
    "saida.close()"
   ]
  },
  {
   "cell_type": "markdown",
   "metadata": {},
   "source": [
    "### 22 A ACME Inc., uma empresa de 500 funcionários, está tendo problemas de espaço em disco no seu servidor de arquivos. Para tentar resolver este problema, o Administrador de Rede precisa saber qual o espaço ocupado pelos usuários, e identificar os usuários com maior espaço ocupado. Através de um programa, baixado da Internet, ele conseguiu gerar o seguinte arquivo, chamado \"usuarios.txt\":"
   ]
  },
  {
   "cell_type": "code",
   "execution_count": 2,
   "metadata": {},
   "outputs": [],
   "source": [
    "def conv_KB_to_MB(input_kilobyte):\n",
    "        megabyte = float(0.000000976562)\n",
    "        convert_mb = megabyte * input_kilobyte\n",
    "        return float(round(convert_mb, 2))\n",
    "    \n",
    "def calcular_porcentagem_total(size_total, percent_total=100, size_saber=0):\n",
    "    percent_saber = (size_saber*percent_total)/size_total\n",
    "    return round(percent_saber,2)\n",
    "    \n",
    "def transform_to_dict(file):\n",
    "    dict_users = {'Nr':[], \"Usuario\":[], \"Space\":[], \"%Uso\":[], \"Total\": 0, \"Medio\": 0}\n",
    "    splitfile = file.split(\"\\n\")[:-1]\n",
    "    \n",
    "    for idx, user in enumerate(splitfile):\n",
    "        user = (user.split(\" \"))\n",
    "        dict_users[\"Nr\"].append(int(idx))\n",
    "        dict_users[\"Usuario\"].append(user[0])\n",
    "        dict_users[\"Space\"].append(conv_KB_to_MB(int(user[1])))\n",
    "    \n",
    "    total_space = round(sum(dict_users['Space']), 2)\n",
    "    for space in dict_users['Space']:\n",
    "        dict_users['%Uso'].append(calcular_porcentagem_total(total_space, 100, space))\n",
    "    \n",
    "    dict_users['Total'] = total_space\n",
    "    dict_users['Medio'] = round(total_space/len(dict_users['Nr']),2)\n",
    "    \n",
    "    return dict_users\n",
    "    \n",
    "def write_file(path_write, dict_formatado):\n",
    "    with open(path_write, \"w\") as file:\n",
    "        file.write(\"ACME Inc.               Uso do espaço em disco pelos usuários.\\n\")\n",
    "        file.write(\"-\"*40+\"\\n\")\n",
    "        file.write(\"NR Usuario Space %Use\\n\")\n",
    "        for nr, usuario, space, uso in zip(dict_formatado['Nr'], dict_formatado['Usuario'], dict_formatado['Space'], \n",
    "                                           dict_formatado['%Uso']):\n",
    "            file.write(f\"{nr} {usuario} {space} {uso}%\\n\")\n",
    "        file.write(f\"\\nEspaco Total Ocupado: {dict_formatado['Total']} MB\")\n",
    "        file.write(f\"\\nEspaco Medio Ocupado: {dict_formatado['Medio']} MB\")\n",
    "    \n",
    "path_users = \"C:/Users/mathe/Desktop/usuarios.txt\"\n",
    "path_relatorio = \"C:/Users/mathe/Desktop/relatorio.txt\"\n",
    "\n",
    "with open(path_users, \"r\") as file:\n",
    "    users_lists = file.read()\n",
    "\n",
    "dict_formatado = transform_to_dict(users_lists)\n",
    "write_file(path_relatorio, dict_formatado)"
   ]
  }
 ],
 "metadata": {
  "kernelspec": {
   "display_name": "Python 3",
   "language": "python",
   "name": "python3"
  },
  "language_info": {
   "codemirror_mode": {
    "name": "ipython",
    "version": 3
   },
   "file_extension": ".py",
   "mimetype": "text/x-python",
   "name": "python",
   "nbconvert_exporter": "python",
   "pygments_lexer": "ipython3",
   "version": "3.7.3"
  }
 },
 "nbformat": 4,
 "nbformat_minor": 2
}
