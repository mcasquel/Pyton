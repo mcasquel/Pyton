{
 "cells": [
  {
   "cell_type": "markdown",
   "metadata": {},
   "source": [
    "### 1 Menor de dois pares: Escreva uma função que retorne o menor de dois números dados se ambos os números forem pares, mas retorna o maior se um dos dois for ímpar. Exemplo:\n",
    "#####         menor_de_dois_pares(2,4) --> 2\n",
    "#####         menor_de_dois_pares (2,5) --> 5"
   ]
  },
  {
   "cell_type": "code",
   "execution_count": 4,
   "metadata": {},
   "outputs": [
    {
     "name": "stdout",
     "output_type": "stream",
     "text": [
      "2\n",
      "5\n"
     ]
    }
   ],
   "source": [
    "def menor_de_dois_pares(num1, num2):\n",
    "    if num1 % 2 == 0 and num2 % 2 == 0:\n",
    "        if num1 < num2:\n",
    "            return num1\n",
    "        else:\n",
    "            return num2\n",
    "    else:\n",
    "        if num1 > num2:\n",
    "            return num1\n",
    "        else:\n",
    "            return num2\n",
    "\n",
    "\n",
    "print(menor_de_dois_pares(2,4))\n",
    "print(menor_de_dois_pares(2,5))"
   ]
  },
  {
   "cell_type": "markdown",
   "metadata": {},
   "source": [
    "### 2 Mesma letra: Escreva uma função que receba uma string com duas palavras e retorne True se ambas palavras começarem com a mesma letra. Exemplo:\n",
    "###### mesma_letra('Cão covarde') -> True\n",
    "###### mesma_letra('Vira Lata') -> False"
   ]
  },
  {
   "cell_type": "code",
   "execution_count": 6,
   "metadata": {},
   "outputs": [
    {
     "name": "stdout",
     "output_type": "stream",
     "text": [
      "False\n",
      "True\n"
     ]
    }
   ],
   "source": [
    "def mesma_letra(string):\n",
    "    p1, p2 = string.split()\n",
    "    if p1[0].lower() == p2[0].lower():\n",
    "        return True\n",
    "    else:\n",
    "        return False\n",
    "    \n",
    "print(mesma_letra('iti malia'))\n",
    "print(mesma_letra('shablau shazam'))"
   ]
  },
  {
   "cell_type": "markdown",
   "metadata": {},
   "source": [
    "### 3 Mestre Yoda: Dada uma sentença, a função deve retornar a sentença com as palavras na ordem reversa. Exemplo:\n",
    "###### mestre_yoda('Eu estou em casa') --> 'casa em estou Eu'\n",
    "###### mestre_yoda('Estamos prontos') --> 'prontos Estamos'\n"
   ]
  },
  {
   "cell_type": "code",
   "execution_count": 11,
   "metadata": {},
   "outputs": [
    {
     "name": "stdout",
     "output_type": "stream",
     "text": [
      " pai seu sou eu\n",
      " a r a r a\n"
     ]
    }
   ],
   "source": [
    "def mestre_yoda(text):\n",
    "    text = text.split(\" \")[::-1]\n",
    "    return \" \".join(text)\n",
    "\n",
    "print(mestre_yoda(\"eu sou seu pai \"))\n",
    "print(mestre_yoda(\"a r a r a \"))"
   ]
  },
  {
   "cell_type": "markdown",
   "metadata": {},
   "source": [
    "### 4 Tem 33: Faça uma função que retorne True se, dada uma lista de inteiros, houver em alguma posição da lista um 3 do lado de outro 3. Exemplo:\n",
    "###### tem_33([1,3,3]) --> True\n",
    "###### tem_33([1,3,1,3]) --> False\n",
    "###### tem_33([3,1,3]) --> False### "
   ]
  },
  {
   "cell_type": "code",
   "execution_count": 13,
   "metadata": {},
   "outputs": [
    {
     "name": "stdout",
     "output_type": "stream",
     "text": [
      "True\n",
      "False\n"
     ]
    }
   ],
   "source": [
    "def tem_33(lista):\n",
    "    for i in range(0, len(lista)):\n",
    "        if lista[i] == 3 and i + 1 < len(lista) and lista[i+1] == 3:\n",
    "            return True\n",
    "    return False\n",
    "\n",
    "print(tem_33([1,3,3]))\n",
    "print(tem_33([3,1,3]))\n"
   ]
  },
  {
   "cell_type": "markdown",
   "metadata": {},
   "source": [
    "### 5 Blackjack: Faça uma função que receba 3 inteiros entre 1 e 11. Se a soma deles for menor que 21, retorne o valor da soma. Se for mair do que 21 e houver um 11, subtraia 10 da soma antes de apresentar o resultado. Se o valor da soma passar de 21, retorne ‘ESTOUROU’. Exemplo:\n",
    "##### blackjack(5,6,7) --> 18\n",
    "##### blackjack(9,9,9) --> 'ESTOUROU'\n",
    "##### blackjack(9,9,11) --> 19"
   ]
  },
  {
   "cell_type": "code",
   "execution_count": 27,
   "metadata": {},
   "outputs": [
    {
     "name": "stdout",
     "output_type": "stream",
     "text": [
      "21\n",
      "16\n",
      "ESTOUROU: 23\n",
      "ESTOUROU: 30\n"
     ]
    }
   ],
   "source": [
    "def blackjack(n1, n2, n3):\n",
    "    somatoria = n1 + n2 + n3\n",
    "    if somatoria <= 21:\n",
    "        if somatoria > 21 and n1 == 11 or n2 == 11 or n3 == 11:\n",
    "            return somatoria - 10\n",
    "        else: \n",
    "            return somatoria\n",
    "        \n",
    "    elif somatoria > 21 and n1 == 11 or n2 == 11 or n3 == 11:\n",
    "        somatoria -= 10\n",
    "        if somatoria <= 21:\n",
    "            return somatoria \n",
    "        else:\n",
    "            return f\"ESTOUROU: {somatoria}\"\n",
    "    else:\n",
    "        return f\"ESTOUROU: {somatoria}\"\n",
    "    #else:\n",
    "       # return \"Números não estão entre 1 e 11.\"\n",
    "\n",
    "print(blackjack(10, 10, 11)) \n",
    "print(blackjack(5, 6, 5)) \n",
    "print(blackjack(11, 11, 11)) \n",
    "print(blackjack(10, 10, 10))"
   ]
  },
  {
   "cell_type": "markdown",
   "metadata": {},
   "source": [
    "### 6 Espião: Escreva uma função que receba uma lista de inteiros e retorne True se contém um 007 em ordem, mesmo que não contínuo. Exemplo:\n",
    "###### espiao([1,2,4,0,0,7,5]) --> True\n",
    "###### espiao([1,0,2,4,0,5,7]) --> True\n",
    "###### espiao([1,7,2,4,0,5,0]) --> False"
   ]
  },
  {
   "cell_type": "code",
   "execution_count": 33,
   "metadata": {},
   "outputs": [
    {
     "name": "stdout",
     "output_type": "stream",
     "text": [
      "True\n",
      "False\n",
      "False\n"
     ]
    }
   ],
   "source": [
    "def espiao(lista):\n",
    "    for x in range(0, len(lista)):\n",
    "        if lista[x] == 0 and x + 1 < len(lista):\n",
    "            y = x + 1\n",
    "            for y in range(y, len(lista)):\n",
    "                if lista[y] == 0 and y + 1 < len(lista):\n",
    "                    z = y + 1\n",
    "                    for z in range(z, len(lista)):\n",
    "                        if lista[z] == 7:\n",
    "                            return True\n",
    "    return False\n",
    "\n",
    "print(espiao([0, 8, 0, 4, 4, 4, 3, 7]))\n",
    "print(espiao([0, 8, 0, 4, 4, 4, 3, 2]))\n",
    "print(espiao([7, 0, 0, 4, 4, 4, 3, 2]))"
   ]
  },
  {
   "cell_type": "markdown",
   "metadata": {},
   "source": [
    "### 7 Linha: Crie a classe Linha que tem dois atributos, coordenada1 e coordenada2. Cada coordenada é uma tupla que carrega duas coordenadas cartesianas (x,y) que denotam pontos do segmento de reta. Faça métodos que calculem o comprimento do segmento de reta e sua inclinação."
   ]
  },
  {
   "cell_type": "code",
   "execution_count": 34,
   "metadata": {},
   "outputs": [
    {
     "name": "stdout",
     "output_type": "stream",
     "text": [
      "7.211102550927978\n",
      "1.5\n"
     ]
    }
   ],
   "source": [
    "import math\n",
    "class Linha:\n",
    "    \n",
    "    def __init__(self, c1, c2):\n",
    "        self.coordenada1 = c1\n",
    "        self.coordenada2 = c2\n",
    "        \n",
    "    def calcularComprimento(self):\n",
    "        return math.sqrt((self.coordenada2[0] - self.coordenada1[0])**2 + (self.coordenada2[1] - self.coordenada1[1])**2)\n",
    "    \n",
    "    def calcularInclinacao(self):\n",
    "        return (self.coordenada2[1] - self.coordenada1[1]) / (self.coordenada2[0] - self.coordenada1[0])\n",
    "    \n",
    "linha = Linha((3, 2), (7, 8))\n",
    "print(linha.calcularComprimento())\n",
    "print(linha.calcularInclinacao())"
   ]
  },
  {
   "cell_type": "markdown",
   "metadata": {},
   "source": [
    "### 8 Figuras: Crie a seguinte hierarquia de classes de figuras geométricas. Veja na figura as fórmulas:\n",
    "###### a. A classe abstrata Figura deve ter o método abstrato area.\n",
    "###### b. A classe concreta Circulo é subclasse de Figura.\n",
    "###### c. A classe abstrata Poligono é subclasse de Figura e deve ter os atributos base e\n",
    "##### altura .\n",
    "###### d. As classes concretas Triangulo, Losango, Retangulo e Quadrado são subclasses\n",
    "de Poligono. Tente criar mais uma generalização aqui olhando as fórmulas da área.\n",
    "###### e. Os polígonos Retangulo e Quadrado devem implementar a interface Diagonal,\n",
    "que deve ter um método que calcula a diagonal.\n",
    "###### f. Crie uma classe Geometria com uma lista de Figuras com pelo menos uma\n",
    "figura de cada e imprima suas áreas, perímetros e diagonais.### "
   ]
  },
  {
   "cell_type": "code",
   "execution_count": 35,
   "metadata": {},
   "outputs": [
    {
     "name": "stdout",
     "output_type": "stream",
     "text": [
      "<class '__main__.Circulo'>\n",
      "Área:  314.1592653589793\n",
      "Perímetro: 62.83185307179586\n",
      "\n",
      "<class '__main__.Triangulo'>\n",
      "Área:  25.0\n",
      "Perímetro: None\n",
      "\n",
      "<class '__main__.Losango'>\n",
      "Área:  36.0\n",
      "Perímetro: 36\n",
      "\n",
      "<class '__main__.Retangulo'>\n",
      "Área:  128\n",
      "Perímetro: 48\n",
      "\n",
      "<class '__main__.Quadrado'>\n",
      "Área:  16\n",
      "Perímetro: 16\n",
      "\n"
     ]
    }
   ],
   "source": [
    "from abc import ABC, abstractmethod\n",
    "import math\n",
    "class Figura(ABC):\n",
    "    \n",
    "    def __init__(self):\n",
    "        super().__init__()\n",
    "    \n",
    "    @abstractmethod\n",
    "    def area(self):\n",
    "        pass\n",
    "    \n",
    "    @abstractmethod\n",
    "    def perimetro(self):\n",
    "        pass\n",
    "    \n",
    "class Circulo(Figura):\n",
    "    \n",
    "    def __init__(self, raio):\n",
    "        self.raio = raio\n",
    "        Figura.__init__(self)\n",
    "        \n",
    "    def area(self):\n",
    "        return math.pi * (self.raio**2)\n",
    "    \n",
    "    def perimetro(self):\n",
    "        return 2 * math.pi * self.raio\n",
    "        \n",
    "class Poligono(Figura, ABC):\n",
    "    \n",
    "    def __init__(self, base, altura):\n",
    "        self.base = base\n",
    "        self.altura = altura\n",
    "        Figura.__init__(self)\n",
    "        \n",
    "class Diagonal(ABC):\n",
    "    \n",
    "    def __init__(self):\n",
    "        super().__init__()\n",
    "        \n",
    "    def diagonal(self):\n",
    "        return math.sqrt((self.base**2) + (self.altura**2))\n",
    "        \n",
    "class Triangulo(Poligono):\n",
    "    \n",
    "    def __init__(self, base, altura):\n",
    "        super().__init__(base, altura)\n",
    "        \n",
    "    def area(self):\n",
    "        return (self.base * self.altura) / 2\n",
    "    \n",
    "    def perimetro(self):\n",
    "        #precisa dos lados\n",
    "        pass\n",
    "        \n",
    "class Losango(Poligono, Diagonal):\n",
    "    \n",
    "    def __init__(self, base, altura):\n",
    "        Poligono.__init__(self, base, altura)\n",
    "        Diagonal.__init__(self)\n",
    "        \n",
    "    def area(self):\n",
    "        return (self.base * self.altura) / 2\n",
    "    \n",
    "    def perimetro(self):\n",
    "        return self.base*2 + self.altura*2\n",
    "        \n",
    "class Retangulo(Poligono, Diagonal):\n",
    "    \n",
    "    def __init__(self, base, altura):\n",
    "        Poligono.__init__(self, base, altura)\n",
    "        Diagonal.__init__(self)\n",
    "        \n",
    "    def area(self):\n",
    "        return self.base * self.altura\n",
    "                         \n",
    "    def diagonal(self):\n",
    "        return math.sqrt((self.base**2) + (self.altura**2))\n",
    "    \n",
    "    def perimetro(self):\n",
    "        return self.base*2 + self.altura*2\n",
    "        \n",
    "class Quadrado(Poligono):\n",
    "    \n",
    "    def __init__(self, base, altura):\n",
    "        super().__init__(base, altura)\n",
    "        \n",
    "    def area(self):\n",
    "        return self.base * self.altura\n",
    "    \n",
    "    def perimetro(self):\n",
    "        return self.base*2 + self.altura*2\n",
    "    \n",
    "class Geometria:\n",
    "    \n",
    "    def __init__(self):\n",
    "        self.figuras = [\n",
    "            Circulo(10),\n",
    "            Triangulo(5, 10),\n",
    "            Losango(6, 12),\n",
    "            Retangulo(16,8),\n",
    "            Quadrado(4, 4)\n",
    "        ]\n",
    "        \n",
    "geometria = Geometria()\n",
    "for figura in geometria.figuras:\n",
    "    print(type(figura))\n",
    "    print(\"Área: \", figura.area())\n",
    "    print(\"Perímetro: \" + str(figura.perimetro()) + \"\\n\")"
   ]
  },
  {
   "cell_type": "markdown",
   "metadata": {},
   "source": [
    "### 9 Jogo de Blacjack: Faça um joguinho simples em Python. Aqui estão os requisitos:\n",
    "###### - Você precisa criar um jogo de BlackJack (21) baseado em texto simples\n",
    "###### - O jogo precisa ter um jogador contra um croupier automatizado.\n",
    "###### - O jogador pode desistir ou bater.\n",
    "###### - O jogador deve ser capaz de escolher o seu valor de aposta.\n",
    "###### - Você precisa acompanhar o dinheiro total do jogador.\n",
    "###### - Você precisa alertar o jogador de vitórias, derrotas ou estouros, etc ...\n",
    "#### E o mais importante:\n",
    "### Você deve usar OOP e classes em alguma parte do seu jogo. Você não pode simplesmente usar funções no seu jogo. Use classes para ajudá-lo a definir o deck e a mão do jogador. Há muitas maneiras certas de fazer isso, então explore bem!"
   ]
  },
  {
   "cell_type": "code",
   "execution_count": 36,
   "metadata": {},
   "outputs": [
    {
     "name": "stdout",
     "output_type": "stream",
     "text": [
      "52\n",
      "7\n",
      "9\n",
      "manilha Espadas : valor 7\n",
      "manilha Copas : valor 2\n",
      "Soma Cartas: 9\n",
      "Quer mais uma ?(S/N)\n",
      "s\n",
      "[<__main__.carta object at 0x00E1A990>]\n",
      "manilha Espadas : valor 7\n",
      "manilha Copas : valor 2\n",
      "manilha Copas : valor 9\n",
      "Soma Cartas: 18\n",
      "Quer mais uma ?(S/N)\n",
      "s\n",
      "[<__main__.carta object at 0x00E07170>]\n",
      "manilha Espadas : valor 7\n",
      "manilha Copas : valor 2\n",
      "manilha Copas : valor 9\n",
      "manilha Paus : valor 6\n",
      "Soma Cartas: 24\n",
      "Perdeu\n"
     ]
    }
   ],
   "source": [
    "import  random\n",
    "\n",
    "class carta:\n",
    "    manilha =\"\"\n",
    "    valor=0\n",
    "    index=0\n",
    "    def __init__(self,manilha,valor,index):\n",
    "        self.manilha = manilha\n",
    "        self.valor = valor\n",
    "        self.index= index\n",
    "\n",
    "    def __str__(self):\n",
    "        return f\"manilha {self.manilha} : valor {self.valor}\"\n",
    "\n",
    "\n",
    "def card_deck():\n",
    "    card_value = ['A','2','3','4','5','6','7','8','9','10','J','Q','K']\n",
    "    card_type = ['Copas','Espadas','Paus','Ouros']\n",
    "    deck = []\n",
    "    k  = 0\n",
    "    for i in card_type:\n",
    "        for j in card_value:\n",
    "            k+=1\n",
    "            cartas = carta(i,j,k)\n",
    "            deck.append(cartas)\n",
    "    return deck\n",
    "\n",
    "\n",
    "def carta_valor(carta,rodada):\n",
    "    if((carta.valor =='10')or (carta.valor =='J')or(carta.valor =='Q')or(carta.valor =='K')):\n",
    "        return 10\n",
    "    elif(carta.valor=='A'):\n",
    "        if(rodada==1):\n",
    "            return 11\n",
    "        else:\n",
    "            return 1\n",
    "    else:\n",
    "        return int(carta.valor)\n",
    "\n",
    "\n",
    "\n",
    "\n",
    "def cartas_ini(deck):\n",
    "    return  random.sample(deck,2)\n",
    "\n",
    "def carta_add(deck):\n",
    "    carta= random.sample(deck,1)\n",
    "    remove_from_deck(carta[0],deck)\n",
    "    print(carta)\n",
    "    return carta[0]\n",
    "\n",
    "def mao_atual(mao,soma):\n",
    "    for carta in mao:\n",
    "        print(carta)\n",
    "    print(f\"Soma Cartas: {soma}\")\n",
    "\n",
    "\n",
    "def remove_from_deck(carta,deck):\n",
    "    deck.pop(int(carta.index))\n",
    "\n",
    "\n",
    "def pricipal():\n",
    "    deck = card_deck()\n",
    "    print(len(deck))\n",
    "\n",
    "    mao = cartas_ini(deck)\n",
    "    soma =  0\n",
    "    rodada = 1\n",
    "    while soma<21:\n",
    "        if rodada ==1:\n",
    "            for cartas in mao:\n",
    "                remove_from_deck(cartas,deck)\n",
    "                soma+= carta_valor(cartas,1)\n",
    "                print(soma)\n",
    "        else:\n",
    "            cont = input(\"Quer mais uma ?(S/N)\\n\")\n",
    "            if cont.upper() ==\"S\":\n",
    "                carta =carta_add(deck)\n",
    "                mao.append(carta)\n",
    "                soma+= carta_valor(carta,2)\n",
    "\n",
    "                pass\n",
    "            else:\n",
    "                break\n",
    "\n",
    "\n",
    "\n",
    "\n",
    "\n",
    "        mao_atual(mao,soma)\n",
    "\n",
    "        rodada+=1\n",
    "\n",
    "    if soma==21:\n",
    "        print(\"Ganhou!\")\n",
    "    elif soma>21:\n",
    "        print(\"Perdeu\")\n",
    "    else:\n",
    "        print(\"Você desistiu!\")\n",
    "pricipal()"
   ]
  }
 ],
 "metadata": {
  "kernelspec": {
   "display_name": "Python 3",
   "language": "python",
   "name": "python3"
  },
  "language_info": {
   "codemirror_mode": {
    "name": "ipython",
    "version": 3
   },
   "file_extension": ".py",
   "mimetype": "text/x-python",
   "name": "python",
   "nbconvert_exporter": "python",
   "pygments_lexer": "ipython3",
   "version": "3.7.3"
  }
 },
 "nbformat": 4,
 "nbformat_minor": 2
}
